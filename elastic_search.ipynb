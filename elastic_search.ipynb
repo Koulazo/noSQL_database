{
 "cells": [
  {
   "cell_type": "code",
   "execution_count": 26,
   "metadata": {},
   "outputs": [],
   "source": [
    "from elasticsearch import Elasticsearch\n",
    "import pandas as pd"
   ]
  },
  {
   "cell_type": "code",
   "execution_count": 27,
   "metadata": {},
   "outputs": [
    {
     "data": {
      "text/plain": [
       "{'name': 'a10f6125f725',\n",
       " 'cluster_name': 'docker-cluster',\n",
       " 'cluster_uuid': 'wnHXhwrkRtygK8fT8jnjfA',\n",
       " 'version': {'number': '8.7.0',\n",
       "  'build_flavor': 'default',\n",
       "  'build_type': 'docker',\n",
       "  'build_hash': '09520b59b6bc1057340b55750186466ea715e30e',\n",
       "  'build_date': '2023-03-27T16:31:09.816451435Z',\n",
       "  'build_snapshot': False,\n",
       "  'lucene_version': '9.5.0',\n",
       "  'minimum_wire_compatibility_version': '7.17.0',\n",
       "  'minimum_index_compatibility_version': '7.0.0'},\n",
       " 'tagline': 'You Know, for Search'}"
      ]
     },
     "execution_count": 27,
     "metadata": {},
     "output_type": "execute_result"
    }
   ],
   "source": [
    "#Navigate to Elasticsearch connect to local host\n",
    "es = Elasticsearch(\"http://localhost:9200\")\n",
    "es.info().body"
   ]
  },
  {
   "cell_type": "code",
   "execution_count": 28,
   "metadata": {},
   "outputs": [
    {
     "name": "stdout",
     "output_type": "stream",
     "text": [
      "   index gene_name gene_claim_name  entrez_id interaction_claim_source  \\\n",
      "0   1257      ROS1            ROS1     6098.0                      DTC   \n",
      "1   3835      MYLK            MYLK     4638.0                      DTC   \n",
      "2   4248    CSNK1E          CSNK1E     1454.0                      DTC   \n",
      "3   4308     EPHA7           EPHA7     2045.0                      DTC   \n",
      "4   5068     STK11           STK11     6794.0                      DTC   \n",
      "\n",
      "  interaction_types drug_claim_name drug_claim_primary_name     drug_name  \\\n",
      "0         inhibitor      HESPERADIN              HESPERADIN    HESPERADIN   \n",
      "1         inhibitor      TOZASERTIB              TOZASERTIB    TOZASERTIB   \n",
      "2         inhibitor      HTS-466284              HTS-466284  CHEMBL261454   \n",
      "3         inhibitor      HESPERADIN              HESPERADIN    HESPERADIN   \n",
      "4         inhibitor      TOZASERTIB              TOZASERTIB    TOZASERTIB   \n",
      "\n",
      "       drug_concept_id  interaction_group_score     PMIDs  \n",
      "0  chembl:CHEMBL514409                     0.05  19035792  \n",
      "1  chembl:CHEMBL572878                     1.82  19035792  \n",
      "2  chembl:CHEMBL261454                     4.55  19035792  \n",
      "3  chembl:CHEMBL514409                     0.80  19035792  \n",
      "4  chembl:CHEMBL572878                     0.08  19035792  \n"
     ]
    }
   ],
   "source": [
    "#Read data file and place into pandas dataframe\n",
    "df = (\n",
    "    pd.read_csv(\"/home/namorak/scripps-research-test/Data/sample_interaction_data.tsv\",sep=\"\\t\",lineterminator='\\n')\n",
    "    .dropna()\n",
    "    # .sample(5000, random_state=42)\n",
    "    .reset_index()\n",
    ")\n",
    "#pd.set_option('display.max_colwidth', None)\n",
    "print(df.head())"
   ]
  },
  {
   "cell_type": "code",
   "execution_count": 29,
   "metadata": {},
   "outputs": [],
   "source": [
    "#Create index and mappings\n",
    "mappings = {\n",
    "    \"properties\": {\n",
    "        \"index\": {\"type\": \"long \"},\n",
    "        \"gene_name\": {\"type\": \"text\"}, \n",
    "        \"gene_claim_name\": {\"type\": \"text\"},\n",
    "        \"entrez_id\": {\"type\": \"long \"},\n",
    "        \"interaction_claim_source\": {\"type\": \"text\"},\n",
    "        \"interaction_types\": {\"type\": \"text\"},\n",
    "        \"drug_claim_primary_name\": {\"type\": \"text\"},    \n",
    "        \"drug_name\": {\"type\": \"text\"},      \n",
    "        \"drug_concept_id\": {\"type\": \"text\"},\n",
    "        \"interaction_group_score\": {\"type\": \"long \"},    \n",
    "        \"PMIDs\": {\"type\": \"long \"}\n",
    "    }\n",
    "}\n",
    "\n",
    "#es.indices.create(index=\"medications\", mappings=mappings)"
   ]
  },
  {
   "cell_type": "code",
   "execution_count": 30,
   "metadata": {},
   "outputs": [
    {
     "data": {
      "text/plain": [
       "ObjectApiResponse({'_index': 'medications', '_id': '93', '_version': 3, 'result': 'updated', '_shards': {'total': 2, 'successful': 1, 'failed': 0}, '_seq_no': 2, '_primary_term': 1})"
      ]
     },
     "execution_count": 30,
     "metadata": {},
     "output_type": "execute_result"
    }
   ],
   "source": [
    "#Add data to index\n",
    "for i, row in df.iterrows():\n",
    "    doc = {\n",
    "        \"index\": row[\"index\"],\n",
    "        \"gene_name\": row[\"gene_name\"], \n",
    "        \"gene_claim_name\": row[\"gene_claim_name\"],\n",
    "        \"entrez_id\": row[\"entrez_id\"],\n",
    "        \"interaction_claim_source\": row[\"interaction_claim_source\"],\n",
    "        \"interaction_types\": row[\"interaction_types\"],\n",
    "        \"drug_claim_primary_name\": row[\"drug_claim_primary_name\"],    \n",
    "        \"drug_name\": row[\"drug_name\"],      \n",
    "        \"drug_concept_id\": row[\"drug_concept_id\"],\n",
    "        \"interaction_group_score\": row[\"interaction_group_score\"],    \n",
    "        \"PMIDs\": row[\"PMIDs\"]\n",
    "    }\n",
    "            \n",
    "es.index(index=\"medications\", id=i, document=doc)"
   ]
  },
  {
   "cell_type": "code",
   "execution_count": 31,
   "metadata": {},
   "outputs": [
    {
     "ename": "NameError",
     "evalue": "name 'bulk' is not defined",
     "output_type": "error",
     "traceback": [
      "\u001b[0;31m---------------------------------------------------------------------------\u001b[0m",
      "\u001b[0;31mNameError\u001b[0m                                 Traceback (most recent call last)",
      "\u001b[1;32m/home/namorak/scripps-research-test/elastic_search.ipynb Cell 6\u001b[0m line \u001b[0;36m2\n\u001b[1;32m      <a href='vscode-notebook-cell://wsl%2Bubuntu/home/namorak/scripps-research-test/elastic_search.ipynb#X10sdnNjb2RlLXJlbW90ZQ%3D%3D?line=2'>3</a>\u001b[0m \u001b[39mfor\u001b[39;00m i,row \u001b[39min\u001b[39;00m df\u001b[39m.\u001b[39miterrows():\n\u001b[1;32m      <a href='vscode-notebook-cell://wsl%2Bubuntu/home/namorak/scripps-research-test/elastic_search.ipynb#X10sdnNjb2RlLXJlbW90ZQ%3D%3D?line=3'>4</a>\u001b[0m     bulk_data\u001b[39m.\u001b[39mappend(\n\u001b[1;32m      <a href='vscode-notebook-cell://wsl%2Bubuntu/home/namorak/scripps-research-test/elastic_search.ipynb#X10sdnNjb2RlLXJlbW90ZQ%3D%3D?line=4'>5</a>\u001b[0m         {\n\u001b[1;32m      <a href='vscode-notebook-cell://wsl%2Bubuntu/home/namorak/scripps-research-test/elastic_search.ipynb#X10sdnNjb2RlLXJlbW90ZQ%3D%3D?line=5'>6</a>\u001b[0m             \u001b[39m\"\u001b[39m\u001b[39m_index\u001b[39m\u001b[39m\"\u001b[39m: \u001b[39m\"\u001b[39m\u001b[39mmedications\u001b[39m\u001b[39m\"\u001b[39m,\n\u001b[0;32m   (...)\u001b[0m\n\u001b[1;32m     <a href='vscode-notebook-cell://wsl%2Bubuntu/home/namorak/scripps-research-test/elastic_search.ipynb#X10sdnNjb2RlLXJlbW90ZQ%3D%3D?line=20'>21</a>\u001b[0m         }\n\u001b[1;32m     <a href='vscode-notebook-cell://wsl%2Bubuntu/home/namorak/scripps-research-test/elastic_search.ipynb#X10sdnNjb2RlLXJlbW90ZQ%3D%3D?line=21'>22</a>\u001b[0m     )\n\u001b[0;32m---> <a href='vscode-notebook-cell://wsl%2Bubuntu/home/namorak/scripps-research-test/elastic_search.ipynb#X10sdnNjb2RlLXJlbW90ZQ%3D%3D?line=22'>23</a>\u001b[0m bulk(es, bulk_data)\n\u001b[1;32m     <a href='vscode-notebook-cell://wsl%2Bubuntu/home/namorak/scripps-research-test/elastic_search.ipynb#X10sdnNjb2RlLXJlbW90ZQ%3D%3D?line=25'>26</a>\u001b[0m es\u001b[39m.\u001b[39mindices\u001b[39m.\u001b[39mrefresh(index\u001b[39m=\u001b[39m\u001b[39m\"\u001b[39m\u001b[39mmedications\u001b[39m\u001b[39m\"\u001b[39m)\n\u001b[1;32m     <a href='vscode-notebook-cell://wsl%2Bubuntu/home/namorak/scripps-research-test/elastic_search.ipynb#X10sdnNjb2RlLXJlbW90ZQ%3D%3D?line=26'>27</a>\u001b[0m es\u001b[39m.\u001b[39mcat\u001b[39m.\u001b[39mcount(index\u001b[39m=\u001b[39m\u001b[39m\"\u001b[39m\u001b[39mmedications\u001b[39m\u001b[39m\"\u001b[39m, \u001b[39mformat\u001b[39m\u001b[39m=\u001b[39m\u001b[39m\"\u001b[39m\u001b[39mjson\u001b[39m\u001b[39m\"\u001b[39m)\n",
      "\u001b[0;31mNameError\u001b[0m: name 'bulk' is not defined"
     ]
    }
   ],
   "source": [
    "#Store bulk data in list\n",
    "bulk_data = []\n",
    "for i,row in df.iterrows():\n",
    "    bulk_data.append(\n",
    "        {\n",
    "            \"_index\": \"medications\",\n",
    "            \"_id\": i,\n",
    "            \"_source\": {        \n",
    "                \"index\": row[\"index\"],\n",
    "                \"gene_name\": row[\"gene_name\"], \n",
    "                \"gene_claim_name\": row[\"gene_claim_name\"],\n",
    "                \"entrez_id\": row[\"entrez_id\"],\n",
    "                \"interaction_claim_source\": row[\"interaction_claim_source\"],\n",
    "                \"interaction_types\": row[\"interaction_types\"],\n",
    "                \"drug_claim_primary_name\": row[\"drug_claim_primary_name\"],    \n",
    "                \"drug_name\": row[\"drug_name\"],      \n",
    "                \"drug_concept_id\": row[\"drug_concept_id\"],\n",
    "                \"interaction_group_score\": row[\"interaction_group_score\"],    \n",
    "                \"PMIDs\": row[\"PMIDs\"],\n",
    "            }\n",
    "        }\n",
    "    )\n",
    "bulk(es, bulk_data)\n",
    "\n",
    "\n",
    "es.indices.refresh(index=\"medications\")\n",
    "es.cat.count(index=\"medications\", format=\"json\")"
   ]
  },
  {
   "cell_type": "code",
   "execution_count": null,
   "metadata": {},
   "outputs": [
    {
     "data": {
      "text/plain": [
       "{'took': 6,\n",
       " 'timed_out': False,\n",
       " '_shards': {'total': 1, 'successful': 1, 'skipped': 0, 'failed': 0},\n",
       " 'hits': {'total': {'value': 0, 'relation': 'eq'},\n",
       "  'max_score': None,\n",
       "  'hits': []}}"
      ]
     },
     "execution_count": 25,
     "metadata": {},
     "output_type": "execute_result"
    }
   ],
   "source": [
    "resp = es.search(\n",
    "    index=\"medications\",\n",
    "    query={\n",
    "            \"bool\": {\n",
    "                \"must\": {\n",
    "                    \"match_phrase\": {\n",
    "                        \"gene_name\": \"CDK7\",\n",
    "                    }\n",
    "                },\n",
    "                \"filter\": {\"bool\": {\"must_not\": {\"match_phrase\": {\"column name\": \"data field\"}}}},\n",
    "            },\n",
    "        },            \n",
    ")\n",
    "resp.body"
   ]
  },
  {
   "cell_type": "code",
   "execution_count": null,
   "metadata": {},
   "outputs": [],
   "source": []
  }
 ],
 "metadata": {
  "kernelspec": {
   "display_name": ".venv",
   "language": "python",
   "name": "python3"
  },
  "language_info": {
   "codemirror_mode": {
    "name": "ipython",
    "version": 3
   },
   "file_extension": ".py",
   "mimetype": "text/x-python",
   "name": "python",
   "nbconvert_exporter": "python",
   "pygments_lexer": "ipython3",
   "version": "3.10.12"
  }
 },
 "nbformat": 4,
 "nbformat_minor": 2
}
