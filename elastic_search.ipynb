{
 "cells": [
  {
   "cell_type": "code",
   "execution_count": 1,
   "metadata": {},
   "outputs": [],
   "source": [
    "from elasticsearch import Elasticsearch\n",
    "import pandas as pd"
   ]
  },
  {
   "cell_type": "code",
   "execution_count": 2,
   "metadata": {},
   "outputs": [
    {
     "ename": "ConnectionError",
     "evalue": "Connection error caused by: ConnectionError(Connection error caused by: NewConnectionError(<urllib3.connection.HTTPConnection object at 0x7fdf2276e2c0>: Failed to establish a new connection: [Errno 111] Connection refused))",
     "output_type": "error",
     "traceback": [
      "\u001b[0;31m---------------------------------------------------------------------------\u001b[0m",
      "\u001b[0;31mConnectionError\u001b[0m                           Traceback (most recent call last)",
      "\u001b[1;32m/home/namorak/scripps-research-test/elastic_search.ipynb Cell 2\u001b[0m line \u001b[0;36m3\n\u001b[1;32m      <a href='vscode-notebook-cell://wsl%2Bubuntu/home/namorak/scripps-research-test/elastic_search.ipynb#W1sdnNjb2RlLXJlbW90ZQ%3D%3D?line=0'>1</a>\u001b[0m \u001b[39m#Navigate to Elasticsearch connect to local host\u001b[39;00m\n\u001b[1;32m      <a href='vscode-notebook-cell://wsl%2Bubuntu/home/namorak/scripps-research-test/elastic_search.ipynb#W1sdnNjb2RlLXJlbW90ZQ%3D%3D?line=1'>2</a>\u001b[0m es \u001b[39m=\u001b[39m Elasticsearch(\u001b[39m\"\u001b[39m\u001b[39mhttp://localhost:9200\u001b[39m\u001b[39m\"\u001b[39m)\n\u001b[0;32m----> <a href='vscode-notebook-cell://wsl%2Bubuntu/home/namorak/scripps-research-test/elastic_search.ipynb#W1sdnNjb2RlLXJlbW90ZQ%3D%3D?line=2'>3</a>\u001b[0m es\u001b[39m.\u001b[39;49minfo()\u001b[39m.\u001b[39mbody\n",
      "File \u001b[0;32m~/.venv/lib/python3.10/site-packages/elasticsearch/_sync/client/utils.py:414\u001b[0m, in \u001b[0;36m_rewrite_parameters.<locals>.wrapper.<locals>.wrapped\u001b[0;34m(*args, **kwargs)\u001b[0m\n\u001b[1;32m    411\u001b[0m         \u001b[39mexcept\u001b[39;00m \u001b[39mKeyError\u001b[39;00m:\n\u001b[1;32m    412\u001b[0m             \u001b[39mpass\u001b[39;00m\n\u001b[0;32m--> 414\u001b[0m \u001b[39mreturn\u001b[39;00m api(\u001b[39m*\u001b[39;49margs, \u001b[39m*\u001b[39;49m\u001b[39m*\u001b[39;49mkwargs)\n",
      "File \u001b[0;32m~/.venv/lib/python3.10/site-packages/elasticsearch/_sync/client/__init__.py:2347\u001b[0m, in \u001b[0;36mElasticsearch.info\u001b[0;34m(self, error_trace, filter_path, human, pretty)\u001b[0m\n\u001b[1;32m   2345\u001b[0m     __query[\u001b[39m\"\u001b[39m\u001b[39mpretty\u001b[39m\u001b[39m\"\u001b[39m] \u001b[39m=\u001b[39m pretty\n\u001b[1;32m   2346\u001b[0m __headers \u001b[39m=\u001b[39m {\u001b[39m\"\u001b[39m\u001b[39maccept\u001b[39m\u001b[39m\"\u001b[39m: \u001b[39m\"\u001b[39m\u001b[39mapplication/json\u001b[39m\u001b[39m\"\u001b[39m}\n\u001b[0;32m-> 2347\u001b[0m \u001b[39mreturn\u001b[39;00m \u001b[39mself\u001b[39;49m\u001b[39m.\u001b[39;49mperform_request(  \u001b[39m# type: ignore[return-value]\u001b[39;49;00m\n\u001b[1;32m   2348\u001b[0m     \u001b[39m\"\u001b[39;49m\u001b[39mGET\u001b[39;49m\u001b[39m\"\u001b[39;49m, __path, params\u001b[39m=\u001b[39;49m__query, headers\u001b[39m=\u001b[39;49m__headers\n\u001b[1;32m   2349\u001b[0m )\n",
      "File \u001b[0;32m~/.venv/lib/python3.10/site-packages/elasticsearch/_sync/client/_base.py:285\u001b[0m, in \u001b[0;36mBaseClient.perform_request\u001b[0;34m(self, method, path, params, headers, body)\u001b[0m\n\u001b[1;32m    282\u001b[0m \u001b[39melse\u001b[39;00m:\n\u001b[1;32m    283\u001b[0m     target \u001b[39m=\u001b[39m path\n\u001b[0;32m--> 285\u001b[0m meta, resp_body \u001b[39m=\u001b[39m \u001b[39mself\u001b[39;49m\u001b[39m.\u001b[39;49mtransport\u001b[39m.\u001b[39;49mperform_request(\n\u001b[1;32m    286\u001b[0m     method,\n\u001b[1;32m    287\u001b[0m     target,\n\u001b[1;32m    288\u001b[0m     headers\u001b[39m=\u001b[39;49mrequest_headers,\n\u001b[1;32m    289\u001b[0m     body\u001b[39m=\u001b[39;49mbody,\n\u001b[1;32m    290\u001b[0m     request_timeout\u001b[39m=\u001b[39;49m\u001b[39mself\u001b[39;49m\u001b[39m.\u001b[39;49m_request_timeout,\n\u001b[1;32m    291\u001b[0m     max_retries\u001b[39m=\u001b[39;49m\u001b[39mself\u001b[39;49m\u001b[39m.\u001b[39;49m_max_retries,\n\u001b[1;32m    292\u001b[0m     retry_on_status\u001b[39m=\u001b[39;49m\u001b[39mself\u001b[39;49m\u001b[39m.\u001b[39;49m_retry_on_status,\n\u001b[1;32m    293\u001b[0m     retry_on_timeout\u001b[39m=\u001b[39;49m\u001b[39mself\u001b[39;49m\u001b[39m.\u001b[39;49m_retry_on_timeout,\n\u001b[1;32m    294\u001b[0m     client_meta\u001b[39m=\u001b[39;49m\u001b[39mself\u001b[39;49m\u001b[39m.\u001b[39;49m_client_meta,\n\u001b[1;32m    295\u001b[0m )\n\u001b[1;32m    297\u001b[0m \u001b[39m# HEAD with a 404 is returned as a normal response\u001b[39;00m\n\u001b[1;32m    298\u001b[0m \u001b[39m# since this is used as an 'exists' functionality.\u001b[39;00m\n\u001b[1;32m    299\u001b[0m \u001b[39mif\u001b[39;00m \u001b[39mnot\u001b[39;00m (method \u001b[39m==\u001b[39m \u001b[39m\"\u001b[39m\u001b[39mHEAD\u001b[39m\u001b[39m\"\u001b[39m \u001b[39mand\u001b[39;00m meta\u001b[39m.\u001b[39mstatus \u001b[39m==\u001b[39m \u001b[39m404\u001b[39m) \u001b[39mand\u001b[39;00m (\n\u001b[1;32m    300\u001b[0m     \u001b[39mnot\u001b[39;00m \u001b[39m200\u001b[39m \u001b[39m<\u001b[39m\u001b[39m=\u001b[39m meta\u001b[39m.\u001b[39mstatus \u001b[39m<\u001b[39m \u001b[39m299\u001b[39m\n\u001b[1;32m    301\u001b[0m     \u001b[39mand\u001b[39;00m (\n\u001b[0;32m   (...)\u001b[0m\n\u001b[1;32m    305\u001b[0m     )\n\u001b[1;32m    306\u001b[0m ):\n",
      "File \u001b[0;32m~/.venv/lib/python3.10/site-packages/elastic_transport/_transport.py:328\u001b[0m, in \u001b[0;36mTransport.perform_request\u001b[0;34m(self, method, target, body, headers, max_retries, retry_on_status, retry_on_timeout, request_timeout, client_meta)\u001b[0m\n\u001b[1;32m    326\u001b[0m start_time \u001b[39m=\u001b[39m time\u001b[39m.\u001b[39mtime()\n\u001b[1;32m    327\u001b[0m \u001b[39mtry\u001b[39;00m:\n\u001b[0;32m--> 328\u001b[0m     meta, raw_data \u001b[39m=\u001b[39m node\u001b[39m.\u001b[39;49mperform_request(\n\u001b[1;32m    329\u001b[0m         method,\n\u001b[1;32m    330\u001b[0m         target,\n\u001b[1;32m    331\u001b[0m         body\u001b[39m=\u001b[39;49mrequest_body,\n\u001b[1;32m    332\u001b[0m         headers\u001b[39m=\u001b[39;49mrequest_headers,\n\u001b[1;32m    333\u001b[0m         request_timeout\u001b[39m=\u001b[39;49mrequest_timeout,\n\u001b[1;32m    334\u001b[0m     )\n\u001b[1;32m    335\u001b[0m     _logger\u001b[39m.\u001b[39minfo(\n\u001b[1;32m    336\u001b[0m         \u001b[39m\"\u001b[39m\u001b[39m%s\u001b[39;00m\u001b[39m \u001b[39m\u001b[39m%s\u001b[39;00m\u001b[39m%s\u001b[39;00m\u001b[39m [status:\u001b[39m\u001b[39m%s\u001b[39;00m\u001b[39m duration:\u001b[39m\u001b[39m%.3f\u001b[39;00m\u001b[39ms]\u001b[39m\u001b[39m\"\u001b[39m\n\u001b[1;32m    337\u001b[0m         \u001b[39m%\u001b[39m (\n\u001b[0;32m   (...)\u001b[0m\n\u001b[1;32m    343\u001b[0m         )\n\u001b[1;32m    344\u001b[0m     )\n\u001b[1;32m    346\u001b[0m     \u001b[39mif\u001b[39;00m method \u001b[39m!=\u001b[39m \u001b[39m\"\u001b[39m\u001b[39mHEAD\u001b[39m\u001b[39m\"\u001b[39m:\n",
      "File \u001b[0;32m~/.venv/lib/python3.10/site-packages/elastic_transport/_node/_http_urllib3.py:202\u001b[0m, in \u001b[0;36mUrllib3HttpNode.perform_request\u001b[0;34m(self, method, target, body, headers, request_timeout)\u001b[0m\n\u001b[1;32m    194\u001b[0m         err \u001b[39m=\u001b[39m \u001b[39mConnectionError\u001b[39;00m(\u001b[39mstr\u001b[39m(e), errors\u001b[39m=\u001b[39m(e,))\n\u001b[1;32m    195\u001b[0m     \u001b[39mself\u001b[39m\u001b[39m.\u001b[39m_log_request(\n\u001b[1;32m    196\u001b[0m         method\u001b[39m=\u001b[39mmethod,\n\u001b[1;32m    197\u001b[0m         target\u001b[39m=\u001b[39mtarget,\n\u001b[0;32m   (...)\u001b[0m\n\u001b[1;32m    200\u001b[0m         exception\u001b[39m=\u001b[39merr,\n\u001b[1;32m    201\u001b[0m     )\n\u001b[0;32m--> 202\u001b[0m     \u001b[39mraise\u001b[39;00m err \u001b[39mfrom\u001b[39;00m \u001b[39mNone\u001b[39;00m\n\u001b[1;32m    204\u001b[0m meta \u001b[39m=\u001b[39m ApiResponseMeta(\n\u001b[1;32m    205\u001b[0m     node\u001b[39m=\u001b[39m\u001b[39mself\u001b[39m\u001b[39m.\u001b[39mconfig,\n\u001b[1;32m    206\u001b[0m     duration\u001b[39m=\u001b[39mduration,\n\u001b[0;32m   (...)\u001b[0m\n\u001b[1;32m    209\u001b[0m     headers\u001b[39m=\u001b[39mresponse_headers,\n\u001b[1;32m    210\u001b[0m )\n\u001b[1;32m    211\u001b[0m \u001b[39mself\u001b[39m\u001b[39m.\u001b[39m_log_request(\n\u001b[1;32m    212\u001b[0m     method\u001b[39m=\u001b[39mmethod,\n\u001b[1;32m    213\u001b[0m     target\u001b[39m=\u001b[39mtarget,\n\u001b[0;32m   (...)\u001b[0m\n\u001b[1;32m    217\u001b[0m     response\u001b[39m=\u001b[39mdata,\n\u001b[1;32m    218\u001b[0m )\n",
      "\u001b[0;31mConnectionError\u001b[0m: Connection error caused by: ConnectionError(Connection error caused by: NewConnectionError(<urllib3.connection.HTTPConnection object at 0x7fdf2276e2c0>: Failed to establish a new connection: [Errno 111] Connection refused))"
     ]
    }
   ],
   "source": [
    "#Navigate to Elasticsearch connect to local host\n",
    "es = Elasticsearch(\"http://localhost:9200\")\n",
    "es.info().body"
   ]
  },
  {
   "cell_type": "code",
   "execution_count": 3,
   "metadata": {},
   "outputs": [
    {
     "ename": "TypeError",
     "evalue": "NodeConfig.__init__() missing 1 required positional argument: 'scheme'",
     "output_type": "error",
     "traceback": [
      "\u001b[0;31m---------------------------------------------------------------------------\u001b[0m",
      "\u001b[0;31mTypeError\u001b[0m                                 Traceback (most recent call last)",
      "\u001b[1;32m/home/namorak/scripps-research-test/elastic_search.ipynb Cell 3\u001b[0m line \u001b[0;36m1\n\u001b[0;32m----> <a href='vscode-notebook-cell://wsl%2Bubuntu/home/namorak/scripps-research-test/elastic_search.ipynb#X11sdnNjb2RlLXJlbW90ZQ%3D%3D?line=0'>1</a>\u001b[0m es \u001b[39m=\u001b[39m Elasticsearch([{\u001b[39m'\u001b[39;49m\u001b[39mhost\u001b[39;49m\u001b[39m'\u001b[39;49m: \u001b[39m'\u001b[39;49m\u001b[39mlocalhost\u001b[39;49m\u001b[39m'\u001b[39;49m, \u001b[39m'\u001b[39;49m\u001b[39mport\u001b[39;49m\u001b[39m'\u001b[39;49m: \u001b[39m9200\u001b[39;49m}])\n\u001b[1;32m      <a href='vscode-notebook-cell://wsl%2Bubuntu/home/namorak/scripps-research-test/elastic_search.ipynb#X11sdnNjb2RlLXJlbW90ZQ%3D%3D?line=1'>2</a>\u001b[0m \u001b[39mprint\u001b[39m(es\u001b[39m.\u001b[39mping())\n",
      "File \u001b[0;32m~/.venv/lib/python3.10/site-packages/elasticsearch/_sync/client/__init__.py:330\u001b[0m, in \u001b[0;36mElasticsearch.__init__\u001b[0;34m(self, hosts, cloud_id, api_key, basic_auth, bearer_auth, opaque_id, headers, connections_per_node, http_compress, verify_certs, ca_certs, client_cert, client_key, ssl_assert_hostname, ssl_assert_fingerprint, ssl_version, ssl_context, ssl_show_warn, transport_class, request_timeout, node_class, node_pool_class, randomize_nodes_in_pool, node_selector_class, dead_node_backoff_factor, max_dead_node_backoff, serializer, serializers, default_mimetype, max_retries, retry_on_status, retry_on_timeout, sniff_on_start, sniff_before_requests, sniff_on_node_failure, sniff_timeout, min_delay_between_sniffing, sniffed_node_callback, meta_header, timeout, randomize_hosts, host_info_callback, sniffer_timeout, sniff_on_connection_fail, http_auth, maxsize, _transport)\u001b[0m\n\u001b[1;32m    327\u001b[0m         requests_session_auth \u001b[39m=\u001b[39m http_auth\n\u001b[1;32m    328\u001b[0m         http_auth \u001b[39m=\u001b[39m DEFAULT\n\u001b[0;32m--> 330\u001b[0m node_configs \u001b[39m=\u001b[39m client_node_configs(\n\u001b[1;32m    331\u001b[0m     hosts,\n\u001b[1;32m    332\u001b[0m     cloud_id\u001b[39m=\u001b[39;49mcloud_id,\n\u001b[1;32m    333\u001b[0m     requests_session_auth\u001b[39m=\u001b[39;49mrequests_session_auth,\n\u001b[1;32m    334\u001b[0m     connections_per_node\u001b[39m=\u001b[39;49mconnections_per_node,\n\u001b[1;32m    335\u001b[0m     http_compress\u001b[39m=\u001b[39;49mhttp_compress,\n\u001b[1;32m    336\u001b[0m     verify_certs\u001b[39m=\u001b[39;49mverify_certs,\n\u001b[1;32m    337\u001b[0m     ca_certs\u001b[39m=\u001b[39;49mca_certs,\n\u001b[1;32m    338\u001b[0m     client_cert\u001b[39m=\u001b[39;49mclient_cert,\n\u001b[1;32m    339\u001b[0m     client_key\u001b[39m=\u001b[39;49mclient_key,\n\u001b[1;32m    340\u001b[0m     ssl_assert_hostname\u001b[39m=\u001b[39;49mssl_assert_hostname,\n\u001b[1;32m    341\u001b[0m     ssl_assert_fingerprint\u001b[39m=\u001b[39;49mssl_assert_fingerprint,\n\u001b[1;32m    342\u001b[0m     ssl_version\u001b[39m=\u001b[39;49mssl_version,\n\u001b[1;32m    343\u001b[0m     ssl_context\u001b[39m=\u001b[39;49mssl_context,\n\u001b[1;32m    344\u001b[0m     ssl_show_warn\u001b[39m=\u001b[39;49mssl_show_warn,\n\u001b[1;32m    345\u001b[0m )\n\u001b[1;32m    346\u001b[0m transport_kwargs: t\u001b[39m.\u001b[39mDict[\u001b[39mstr\u001b[39m, t\u001b[39m.\u001b[39mAny] \u001b[39m=\u001b[39m {}\n\u001b[1;32m    347\u001b[0m \u001b[39mif\u001b[39;00m node_class \u001b[39mis\u001b[39;00m \u001b[39mnot\u001b[39;00m DEFAULT:\n",
      "File \u001b[0;32m~/.venv/lib/python3.10/site-packages/elasticsearch/_sync/client/utils.py:105\u001b[0m, in \u001b[0;36mclient_node_configs\u001b[0;34m(hosts, cloud_id, requests_session_auth, **kwargs)\u001b[0m\n\u001b[1;32m    103\u001b[0m \u001b[39melse\u001b[39;00m:\n\u001b[1;32m    104\u001b[0m     \u001b[39massert\u001b[39;00m hosts \u001b[39mis\u001b[39;00m \u001b[39mnot\u001b[39;00m \u001b[39mNone\u001b[39;00m\n\u001b[0;32m--> 105\u001b[0m     node_configs \u001b[39m=\u001b[39m hosts_to_node_configs(hosts)\n\u001b[1;32m    107\u001b[0m \u001b[39m# Remove all values which are 'DEFAULT' to avoid overwriting actual defaults.\u001b[39;00m\n\u001b[1;32m    108\u001b[0m node_options \u001b[39m=\u001b[39m {k: v \u001b[39mfor\u001b[39;00m k, v \u001b[39min\u001b[39;00m kwargs\u001b[39m.\u001b[39mitems() \u001b[39mif\u001b[39;00m v \u001b[39mis\u001b[39;00m \u001b[39mnot\u001b[39;00m DEFAULT}\n",
      "File \u001b[0;32m~/.venv/lib/python3.10/site-packages/elasticsearch/_sync/client/utils.py:154\u001b[0m, in \u001b[0;36mhosts_to_node_configs\u001b[0;34m(hosts)\u001b[0m\n\u001b[1;32m    151\u001b[0m     node_configs\u001b[39m.\u001b[39mappend(url_to_node_config(host))\n\u001b[1;32m    153\u001b[0m \u001b[39melif\u001b[39;00m \u001b[39misinstance\u001b[39m(host, Mapping):\n\u001b[0;32m--> 154\u001b[0m     node_configs\u001b[39m.\u001b[39mappend(host_mapping_to_node_config(host))\n\u001b[1;32m    155\u001b[0m \u001b[39melse\u001b[39;00m:\n\u001b[1;32m    156\u001b[0m     \u001b[39mraise\u001b[39;00m \u001b[39mValueError\u001b[39;00m(\n\u001b[1;32m    157\u001b[0m         \u001b[39m\"\u001b[39m\u001b[39m'\u001b[39m\u001b[39mhosts\u001b[39m\u001b[39m'\u001b[39m\u001b[39m must be a list of URLs, NodeConfigs, or dictionaries\u001b[39m\u001b[39m\"\u001b[39m\n\u001b[1;32m    158\u001b[0m     )\n",
      "File \u001b[0;32m~/.venv/lib/python3.10/site-packages/elasticsearch/_sync/client/utils.py:221\u001b[0m, in \u001b[0;36mhost_mapping_to_node_config\u001b[0;34m(host)\u001b[0m\n\u001b[1;32m    214\u001b[0m     warnings\u001b[39m.\u001b[39mwarn(\n\u001b[1;32m    215\u001b[0m         \u001b[39m\"\u001b[39m\u001b[39mThe \u001b[39m\u001b[39m'\u001b[39m\u001b[39murl_prefix\u001b[39m\u001b[39m'\u001b[39m\u001b[39m option is deprecated in favor of \u001b[39m\u001b[39m'\u001b[39m\u001b[39mpath_prefix\u001b[39m\u001b[39m'\u001b[39m\u001b[39m\"\u001b[39m,\n\u001b[1;32m    216\u001b[0m         category\u001b[39m=\u001b[39m\u001b[39mDeprecationWarning\u001b[39;00m,\n\u001b[1;32m    217\u001b[0m         stacklevel\u001b[39m=\u001b[39mwarn_stacklevel(),\n\u001b[1;32m    218\u001b[0m     )\n\u001b[1;32m    219\u001b[0m     options[\u001b[39m\"\u001b[39m\u001b[39mpath_prefix\u001b[39m\u001b[39m\"\u001b[39m] \u001b[39m=\u001b[39m options\u001b[39m.\u001b[39mpop(\u001b[39m\"\u001b[39m\u001b[39murl_prefix\u001b[39m\u001b[39m\"\u001b[39m)\n\u001b[0;32m--> 221\u001b[0m \u001b[39mreturn\u001b[39;00m NodeConfig(\u001b[39m*\u001b[39;49m\u001b[39m*\u001b[39;49moptions)\n",
      "\u001b[0;31mTypeError\u001b[0m: NodeConfig.__init__() missing 1 required positional argument: 'scheme'"
     ]
    }
   ],
   "source": [
    "es = Elasticsearch([{'host': 'localhost', 'port': 9200}])\n",
    "print(es.ping())"
   ]
  },
  {
   "cell_type": "code",
   "execution_count": 5,
   "metadata": {},
   "outputs": [
    {
     "ename": "TypeError",
     "evalue": "'<' not supported between instances of 'str' and 'int'",
     "output_type": "error",
     "traceback": [
      "\u001b[0;31m---------------------------------------------------------------------------\u001b[0m",
      "\u001b[0;31mTypeError\u001b[0m                                 Traceback (most recent call last)",
      "\u001b[1;32m/home/namorak/scripps-research-test/elastic_search.ipynb Cell 4\u001b[0m line \u001b[0;36m1\n\u001b[0;32m----> <a href='vscode-notebook-cell://wsl%2Bubuntu/home/namorak/scripps-research-test/elastic_search.ipynb#X12sdnNjb2RlLXJlbW90ZQ%3D%3D?line=0'>1</a>\u001b[0m es \u001b[39m=\u001b[39m Elasticsearch([{\u001b[39m'\u001b[39;49m\u001b[39mhost\u001b[39;49m\u001b[39m'\u001b[39;49m: \u001b[39m'\u001b[39;49m\u001b[39mlocalhost\u001b[39;49m\u001b[39m'\u001b[39;49m, \u001b[39m'\u001b[39;49m\u001b[39mport\u001b[39;49m\u001b[39m'\u001b[39;49m: \u001b[39m'\u001b[39;49m\u001b[39m9200\u001b[39;49m\u001b[39m'\u001b[39;49m, \u001b[39m\"\u001b[39;49m\u001b[39mscheme\u001b[39;49m\u001b[39m\"\u001b[39;49m: \u001b[39m\"\u001b[39;49m\u001b[39mhttps\u001b[39;49m\u001b[39m\"\u001b[39;49m}])\n\u001b[1;32m      <a href='vscode-notebook-cell://wsl%2Bubuntu/home/namorak/scripps-research-test/elastic_search.ipynb#X12sdnNjb2RlLXJlbW90ZQ%3D%3D?line=1'>2</a>\u001b[0m \u001b[39mprint\u001b[39m(es\u001b[39m.\u001b[39mping())\n",
      "File \u001b[0;32m~/.venv/lib/python3.10/site-packages/elasticsearch/_sync/client/__init__.py:330\u001b[0m, in \u001b[0;36mElasticsearch.__init__\u001b[0;34m(self, hosts, cloud_id, api_key, basic_auth, bearer_auth, opaque_id, headers, connections_per_node, http_compress, verify_certs, ca_certs, client_cert, client_key, ssl_assert_hostname, ssl_assert_fingerprint, ssl_version, ssl_context, ssl_show_warn, transport_class, request_timeout, node_class, node_pool_class, randomize_nodes_in_pool, node_selector_class, dead_node_backoff_factor, max_dead_node_backoff, serializer, serializers, default_mimetype, max_retries, retry_on_status, retry_on_timeout, sniff_on_start, sniff_before_requests, sniff_on_node_failure, sniff_timeout, min_delay_between_sniffing, sniffed_node_callback, meta_header, timeout, randomize_hosts, host_info_callback, sniffer_timeout, sniff_on_connection_fail, http_auth, maxsize, _transport)\u001b[0m\n\u001b[1;32m    327\u001b[0m         requests_session_auth \u001b[39m=\u001b[39m http_auth\n\u001b[1;32m    328\u001b[0m         http_auth \u001b[39m=\u001b[39m DEFAULT\n\u001b[0;32m--> 330\u001b[0m node_configs \u001b[39m=\u001b[39m client_node_configs(\n\u001b[1;32m    331\u001b[0m     hosts,\n\u001b[1;32m    332\u001b[0m     cloud_id\u001b[39m=\u001b[39;49mcloud_id,\n\u001b[1;32m    333\u001b[0m     requests_session_auth\u001b[39m=\u001b[39;49mrequests_session_auth,\n\u001b[1;32m    334\u001b[0m     connections_per_node\u001b[39m=\u001b[39;49mconnections_per_node,\n\u001b[1;32m    335\u001b[0m     http_compress\u001b[39m=\u001b[39;49mhttp_compress,\n\u001b[1;32m    336\u001b[0m     verify_certs\u001b[39m=\u001b[39;49mverify_certs,\n\u001b[1;32m    337\u001b[0m     ca_certs\u001b[39m=\u001b[39;49mca_certs,\n\u001b[1;32m    338\u001b[0m     client_cert\u001b[39m=\u001b[39;49mclient_cert,\n\u001b[1;32m    339\u001b[0m     client_key\u001b[39m=\u001b[39;49mclient_key,\n\u001b[1;32m    340\u001b[0m     ssl_assert_hostname\u001b[39m=\u001b[39;49mssl_assert_hostname,\n\u001b[1;32m    341\u001b[0m     ssl_assert_fingerprint\u001b[39m=\u001b[39;49mssl_assert_fingerprint,\n\u001b[1;32m    342\u001b[0m     ssl_version\u001b[39m=\u001b[39;49mssl_version,\n\u001b[1;32m    343\u001b[0m     ssl_context\u001b[39m=\u001b[39;49mssl_context,\n\u001b[1;32m    344\u001b[0m     ssl_show_warn\u001b[39m=\u001b[39;49mssl_show_warn,\n\u001b[1;32m    345\u001b[0m )\n\u001b[1;32m    346\u001b[0m transport_kwargs: t\u001b[39m.\u001b[39mDict[\u001b[39mstr\u001b[39m, t\u001b[39m.\u001b[39mAny] \u001b[39m=\u001b[39m {}\n\u001b[1;32m    347\u001b[0m \u001b[39mif\u001b[39;00m node_class \u001b[39mis\u001b[39;00m \u001b[39mnot\u001b[39;00m DEFAULT:\n",
      "File \u001b[0;32m~/.venv/lib/python3.10/site-packages/elasticsearch/_sync/client/utils.py:105\u001b[0m, in \u001b[0;36mclient_node_configs\u001b[0;34m(hosts, cloud_id, requests_session_auth, **kwargs)\u001b[0m\n\u001b[1;32m    103\u001b[0m \u001b[39melse\u001b[39;00m:\n\u001b[1;32m    104\u001b[0m     \u001b[39massert\u001b[39;00m hosts \u001b[39mis\u001b[39;00m \u001b[39mnot\u001b[39;00m \u001b[39mNone\u001b[39;00m\n\u001b[0;32m--> 105\u001b[0m     node_configs \u001b[39m=\u001b[39m hosts_to_node_configs(hosts)\n\u001b[1;32m    107\u001b[0m \u001b[39m# Remove all values which are 'DEFAULT' to avoid overwriting actual defaults.\u001b[39;00m\n\u001b[1;32m    108\u001b[0m node_options \u001b[39m=\u001b[39m {k: v \u001b[39mfor\u001b[39;00m k, v \u001b[39min\u001b[39;00m kwargs\u001b[39m.\u001b[39mitems() \u001b[39mif\u001b[39;00m v \u001b[39mis\u001b[39;00m \u001b[39mnot\u001b[39;00m DEFAULT}\n",
      "File \u001b[0;32m~/.venv/lib/python3.10/site-packages/elasticsearch/_sync/client/utils.py:154\u001b[0m, in \u001b[0;36mhosts_to_node_configs\u001b[0;34m(hosts)\u001b[0m\n\u001b[1;32m    151\u001b[0m     node_configs\u001b[39m.\u001b[39mappend(url_to_node_config(host))\n\u001b[1;32m    153\u001b[0m \u001b[39melif\u001b[39;00m \u001b[39misinstance\u001b[39m(host, Mapping):\n\u001b[0;32m--> 154\u001b[0m     node_configs\u001b[39m.\u001b[39mappend(host_mapping_to_node_config(host))\n\u001b[1;32m    155\u001b[0m \u001b[39melse\u001b[39;00m:\n\u001b[1;32m    156\u001b[0m     \u001b[39mraise\u001b[39;00m \u001b[39mValueError\u001b[39;00m(\n\u001b[1;32m    157\u001b[0m         \u001b[39m\"\u001b[39m\u001b[39m'\u001b[39m\u001b[39mhosts\u001b[39m\u001b[39m'\u001b[39m\u001b[39m must be a list of URLs, NodeConfigs, or dictionaries\u001b[39m\u001b[39m\"\u001b[39m\n\u001b[1;32m    158\u001b[0m     )\n",
      "File \u001b[0;32m~/.venv/lib/python3.10/site-packages/elasticsearch/_sync/client/utils.py:221\u001b[0m, in \u001b[0;36mhost_mapping_to_node_config\u001b[0;34m(host)\u001b[0m\n\u001b[1;32m    214\u001b[0m     warnings\u001b[39m.\u001b[39mwarn(\n\u001b[1;32m    215\u001b[0m         \u001b[39m\"\u001b[39m\u001b[39mThe \u001b[39m\u001b[39m'\u001b[39m\u001b[39murl_prefix\u001b[39m\u001b[39m'\u001b[39m\u001b[39m option is deprecated in favor of \u001b[39m\u001b[39m'\u001b[39m\u001b[39mpath_prefix\u001b[39m\u001b[39m'\u001b[39m\u001b[39m\"\u001b[39m,\n\u001b[1;32m    216\u001b[0m         category\u001b[39m=\u001b[39m\u001b[39mDeprecationWarning\u001b[39;00m,\n\u001b[1;32m    217\u001b[0m         stacklevel\u001b[39m=\u001b[39mwarn_stacklevel(),\n\u001b[1;32m    218\u001b[0m     )\n\u001b[1;32m    219\u001b[0m     options[\u001b[39m\"\u001b[39m\u001b[39mpath_prefix\u001b[39m\u001b[39m\"\u001b[39m] \u001b[39m=\u001b[39m options\u001b[39m.\u001b[39mpop(\u001b[39m\"\u001b[39m\u001b[39murl_prefix\u001b[39m\u001b[39m\"\u001b[39m)\n\u001b[0;32m--> 221\u001b[0m \u001b[39mreturn\u001b[39;00m NodeConfig(\u001b[39m*\u001b[39;49m\u001b[39m*\u001b[39;49moptions)\n",
      "File \u001b[0;32m<string>:21\u001b[0m, in \u001b[0;36m__init__\u001b[0;34m(self, scheme, host, port, path_prefix, headers, connections_per_node, request_timeout, http_compress, verify_certs, ca_certs, client_cert, client_key, ssl_assert_hostname, ssl_assert_fingerprint, ssl_version, ssl_context, ssl_show_warn, _extras)\u001b[0m\n",
      "File \u001b[0;32m~/.venv/lib/python3.10/site-packages/elastic_transport/_models.py:305\u001b[0m, in \u001b[0;36mNodeConfig.__post_init__\u001b[0;34m(self)\u001b[0m\n\u001b[1;32m    303\u001b[0m \u001b[39mif\u001b[39;00m \u001b[39m\"\u001b[39m\u001b[39m[\u001b[39m\u001b[39m\"\u001b[39m \u001b[39min\u001b[39;00m \u001b[39mself\u001b[39m\u001b[39m.\u001b[39mhost \u001b[39mor\u001b[39;00m \u001b[39m\"\u001b[39m\u001b[39m]\u001b[39m\u001b[39m\"\u001b[39m \u001b[39min\u001b[39;00m \u001b[39mself\u001b[39m\u001b[39m.\u001b[39mhost:\n\u001b[1;32m    304\u001b[0m     \u001b[39mraise\u001b[39;00m \u001b[39mValueError\u001b[39;00m(\u001b[39m\"\u001b[39m\u001b[39m'\u001b[39m\u001b[39mhost\u001b[39m\u001b[39m'\u001b[39m\u001b[39m must not have square braces\u001b[39m\u001b[39m\"\u001b[39m)\n\u001b[0;32m--> 305\u001b[0m \u001b[39mif\u001b[39;00m \u001b[39mself\u001b[39;49m\u001b[39m.\u001b[39;49mport \u001b[39m<\u001b[39;49m \u001b[39m0\u001b[39;49m:\n\u001b[1;32m    306\u001b[0m     \u001b[39mraise\u001b[39;00m \u001b[39mValueError\u001b[39;00m(\u001b[39m\"\u001b[39m\u001b[39m'\u001b[39m\u001b[39mport\u001b[39m\u001b[39m'\u001b[39m\u001b[39m must be a positive integer\u001b[39m\u001b[39m\"\u001b[39m)\n\u001b[1;32m    307\u001b[0m \u001b[39mif\u001b[39;00m \u001b[39mself\u001b[39m\u001b[39m.\u001b[39mconnections_per_node \u001b[39m<\u001b[39m\u001b[39m=\u001b[39m \u001b[39m0\u001b[39m:\n",
      "\u001b[0;31mTypeError\u001b[0m: '<' not supported between instances of 'str' and 'int'"
     ]
    }
   ],
   "source": [
    "es = Elasticsearch([{'host': 'localhost', 'port': '9200', \"scheme\": \"https\"}])\n",
    "print(es.ping())"
   ]
  },
  {
   "cell_type": "code",
   "execution_count": null,
   "metadata": {},
   "outputs": [],
   "source": [
    "#Read data file and place into pandas dataframe\n",
    "df = (\n",
    "    pd.read_csv(\"/home/namorak/scripps-research-test/Data/sample_interaction_data.tsv\",sep=\"\\t\",lineterminator='\\n')\n",
    "    .dropna()\n",
    "    # .sample(5000, random_state=42)\n",
    "    .reset_index()\n",
    ")\n",
    "#pd.set_option('display.max_colwidth', None)\n",
    "print(df.head())"
   ]
  },
  {
   "cell_type": "code",
   "execution_count": null,
   "metadata": {},
   "outputs": [],
   "source": [
    "#Create index and mappings\n",
    "mappings = {\n",
    "    \"properties\": {\n",
    "        \"index\": {\"type\": \"long \"},\n",
    "        \"gene_name\": {\"type\": \"text\"}, \n",
    "        \"gene_claim_name\": {\"type\": \"text\"},\n",
    "        \"entrez_id\": {\"type\": \"long \"},\n",
    "        \"interaction_claim_source\": {\"type\": \"text\"},\n",
    "        \"interaction_types\": {\"type\": \"text\"},\n",
    "        \"drug_claim_primary_name\": {\"type\": \"text\"},    \n",
    "        \"drug_name\": {\"type\": \"text\"},      \n",
    "        \"drug_concept_id\": {\"type\": \"text\"},\n",
    "        \"interaction_group_score\": {\"type\": \"long \"},    \n",
    "        \"PMIDs\": {\"type\": \"long \"}\n",
    "    }\n",
    "}\n",
    "\n",
    "#es.indices.create(index=\"medications\", mappings=mappings)"
   ]
  },
  {
   "cell_type": "code",
   "execution_count": null,
   "metadata": {},
   "outputs": [],
   "source": [
    "#Add data to index\n",
    "for i, row in df.iterrows():\n",
    "    doc = {\n",
    "        \"index\": row[\"index\"],\n",
    "        \"gene_name\": row[\"gene_name\"], \n",
    "        \"gene_claim_name\": row[\"gene_claim_name\"],\n",
    "        \"entrez_id\": row[\"entrez_id\"],\n",
    "        \"interaction_claim_source\": row[\"interaction_claim_source\"],\n",
    "        \"interaction_types\": row[\"interaction_types\"],\n",
    "        \"drug_claim_primary_name\": row[\"drug_claim_primary_name\"],    \n",
    "        \"drug_name\": row[\"drug_name\"],      \n",
    "        \"drug_concept_id\": row[\"drug_concept_id\"],\n",
    "        \"interaction_group_score\": row[\"interaction_group_score\"],    \n",
    "        \"PMIDs\": row[\"PMIDs\"]\n",
    "    }\n",
    "            \n",
    "es.index(index=\"medications\", id=i, document=doc)"
   ]
  },
  {
   "cell_type": "code",
   "execution_count": null,
   "metadata": {},
   "outputs": [],
   "source": [
    "#Store bulk data in list\n",
    "bulk_data = []\n",
    "for i,row in df.iterrows():\n",
    "    bulk_data.append(\n",
    "        {\n",
    "            \"_index\": \"medications\",\n",
    "            \"_id\": i,\n",
    "            \"_source\": {        \n",
    "                \"index\": row[\"index\"],\n",
    "                \"gene_name\": row[\"gene_name\"], \n",
    "                \"gene_claim_name\": row[\"gene_claim_name\"],\n",
    "                \"entrez_id\": row[\"entrez_id\"],\n",
    "                \"interaction_claim_source\": row[\"interaction_claim_source\"],\n",
    "                \"interaction_types\": row[\"interaction_types\"],\n",
    "                \"drug_claim_primary_name\": row[\"drug_claim_primary_name\"],    \n",
    "                \"drug_name\": row[\"drug_name\"],      \n",
    "                \"drug_concept_id\": row[\"drug_concept_id\"],\n",
    "                \"interaction_group_score\": row[\"interaction_group_score\"],    \n",
    "                \"PMIDs\": row[\"PMIDs\"],\n",
    "            }\n",
    "        }\n",
    "    )\n",
    "bulk(es, bulk_data)\n",
    "\n",
    "\n",
    "es.indices.refresh(index=\"medications\")\n",
    "es.cat.count(index=\"medications\", format=\"json\")"
   ]
  },
  {
   "cell_type": "code",
   "execution_count": null,
   "metadata": {},
   "outputs": [],
   "source": [
    "resp = es.search(\n",
    "    index=\"medications\",\n",
    "    query={\n",
    "            \"bool\": {\n",
    "                \"must\": {\n",
    "                    \"match_phrase\": {\n",
    "                        \"gene_name\": \"CDK7\",\n",
    "                    }\n",
    "                },\n",
    "                \"filter\": {\"bool\": {\"must_not\": {\"match_phrase\": {\"column name\": \"data field\"}}}},\n",
    "            },\n",
    "        },            \n",
    ")\n",
    "resp.body"
   ]
  },
  {
   "cell_type": "code",
   "execution_count": null,
   "metadata": {},
   "outputs": [],
   "source": []
  }
 ],
 "metadata": {
  "kernelspec": {
   "display_name": ".venv",
   "language": "python",
   "name": "python3"
  },
  "language_info": {
   "codemirror_mode": {
    "name": "ipython",
    "version": 3
   },
   "file_extension": ".py",
   "mimetype": "text/x-python",
   "name": "python",
   "nbconvert_exporter": "python",
   "pygments_lexer": "ipython3",
   "version": "3.10.12"
  }
 },
 "nbformat": 4,
 "nbformat_minor": 2
}
